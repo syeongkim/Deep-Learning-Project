{
  "cells": [
    {
      "cell_type": "markdown",
      "metadata": {
        "id": "T879uJ-bO5sD"
      },
      "source": [
        "한국인 데이터셋 전처리"
      ]
    },
    {
      "cell_type": "code",
      "execution_count": null,
      "metadata": {
        "id": "y4y4xrNUO5sN",
        "outputId": "68a34eef-6c1e-4288-ec0b-806ce91ce594"
      },
      "outputs": [],
      "source": [
        "import os\n",
        "\n",
        "dir_path = \"/Users/carsk/OneDrive/문서/성균관대학교/3학년 1학기/딥러닝/중간 프로젝트/data\"\n",
        "dirlist = []\n",
        "\n",
        "for (root, directories, files) in os.walk(dir_path):\n",
        "    for d in directories:\n",
        "        d_path = os.path.join(root, d)\n",
        "        dirlist.append(d_path)\n",
        "        print(d_path)"
      ]
    },
    {
      "cell_type": "code",
      "execution_count": null,
      "metadata": {
        "id": "0P0MRfCLO5sP"
      },
      "outputs": [],
      "source": [
        "import os\n",
        "import shutil\n",
        "import random\n",
        "import pandas as pd\n",
        "import time\n",
        "from PIL import Image"
      ]
    },
    {
      "cell_type": "code",
      "execution_count": null,
      "metadata": {
        "id": "RPEmyKmbO5sP",
        "outputId": "3f1f1da0-4ea9-40c6-aae3-31ce2f592f04"
      },
      "outputs": [],
      "source": [
        "for i in dirlist:\n",
        "    for (root, directories, files) in os.walk(i):\n",
        "        filelist = []\n",
        "        for file in files:\n",
        "            file_path = os.path.join(root, file)\n",
        "            filelist.append(file_path)\n",
        "            print(file_path)\n",
        "        random_num = int(len(filelist)*0.016)\n",
        "        for i in range(random_num):\n",
        "            random_file = random.choice(filelist)\n",
        "            shutil.move(random_file, \"/Users/carsk/OneDrive/문서/성균관대학교/3학년 1학기/딥러닝/중간 프로젝트/data/korean\")\n",
        "            filelist.remove(random_file)"
      ]
    },
    {
      "cell_type": "markdown",
      "metadata": {
        "id": "sk9x4gCHO5sP"
      },
      "source": [
        "비한국인 데이터셋 전처리"
      ]
    },
    {
      "cell_type": "code",
      "execution_count": null,
      "metadata": {
        "id": "NiWKmdVaO5sQ"
      },
      "outputs": [],
      "source": [
        "csv = pd.read_csv(\"/Users/carsk/OneDrive/문서/성균관대학교/3학년 1학기/딥러닝/중간 프로젝트/dress.csv\")"
      ]
    },
    {
      "cell_type": "code",
      "execution_count": null,
      "metadata": {
        "id": "RfGCwS3_O5sQ"
      },
      "outputs": [],
      "source": [
        "image_url = csv['image_url'].values.tolist()"
      ]
    },
    {
      "cell_type": "code",
      "execution_count": null,
      "metadata": {
        "id": "N2zStJB3O5sQ"
      },
      "outputs": [],
      "source": [
        "cnt = ０\n",
        "for i in image_url:\n",
        "  cnt += 1\n",
        "  # time check\n",
        "  start = time.time()\n",
        "\n",
        "  # curl 요청\n",
        "  os.system(\"curl \" + i + \" > test.jpg\")\n",
        "\n",
        "  # 저장 된 이미지 확인\n",
        "  img = Image.open(\"test.jpg\")\n",
        "  img.show()\n",
        "  img.save('/Users/carsk/OneDrive/문서/성균관대학교/3학년 1학기/딥러닝/중간 프로젝트/data/nonkorean/'+str(cnt)+'.png', 'png')"
      ]
    },
    {
      "cell_type": "code",
      "execution_count": null,
      "metadata": {
        "id": "PIyNp43PO5sQ"
      },
      "outputs": [],
      "source": []
    }
  ],
  "metadata": {
    "colab": {
      "provenance": []
    },
    "kernelspec": {
      "display_name": "Python 3",
      "language": "python",
      "name": "python3"
    },
    "language_info": {
      "codemirror_mode": {
        "name": "ipython",
        "version": 3
      },
      "file_extension": ".py",
      "mimetype": "text/x-python",
      "name": "python",
      "nbconvert_exporter": "python",
      "pygments_lexer": "ipython3",
      "version": "3.8.9"
    },
    "orig_nbformat": 4
  },
  "nbformat": 4,
  "nbformat_minor": 0
}
