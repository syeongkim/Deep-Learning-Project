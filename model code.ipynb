{
  "nbformat": 4,
  "nbformat_minor": 0,
  "metadata": {
    "colab": {
      "provenance": [],
      "gpuType": "T4"
    },
    "kernelspec": {
      "name": "python3",
      "display_name": "Python 3"
    },
    "language_info": {
      "name": "python"
    },
    "accelerator": "GPU",
    "gpuClass": "standard"
  },
  "cells": [
    {
      "cell_type": "markdown",
      "source": [
        "## Google Drive Mount"
      ],
      "metadata": {
        "id": "qjIX8K5hPcQ0"
      }
    },
    {
      "cell_type": "code",
      "execution_count": 1,
      "metadata": {
        "id": "xaH1qMPdjrjV",
        "colab": {
          "base_uri": "https://localhost:8080/"
        },
        "outputId": "d3692b8d-656e-41b1-8b98-d7ff669b6e36"
      },
      "outputs": [
        {
          "output_type": "stream",
          "name": "stdout",
          "text": [
            "Mounted at /content/drive\n"
          ]
        }
      ],
      "source": [
        "from google.colab import drive\n",
        "drive.mount('/content/drive')"
      ]
    },
    {
      "cell_type": "markdown",
      "source": [
        "## Library"
      ],
      "metadata": {
        "id": "rBHiCVSgPe1Q"
      }
    },
    {
      "cell_type": "code",
      "source": [
        "import torch\n",
        "import torch.nn as nn\n",
        "import torch.nn.functional as F\n",
        "import torch.optim as optim\n",
        "\n",
        "import seaborn as sns\n",
        "import pandas as pd\n",
        "import numpy as np\n",
        "import matplotlib.pyplot as plt\n",
        "\n",
        "import torchvision\n",
        "import torchvision.transforms as transforms\n",
        "\n",
        "from torch.utils.data import TensorDataset, Dataset, DataLoader\n",
        "from torch.utils.data.dataset import random_split\n",
        "from torchvision import datasets, transforms, models\n",
        "from copy import deepcopy\n",
        "\n",
        "from torchvision.datasets import ImageFolder\n",
        "from sklearn import metrics"
      ],
      "metadata": {
        "id": "9nl_skc0NLTI"
      },
      "execution_count": 2,
      "outputs": []
    },
    {
      "cell_type": "markdown",
      "source": [
        "## Model"
      ],
      "metadata": {
        "id": "ycOhWg9IEuI-"
      }
    },
    {
      "cell_type": "code",
      "source": [
        "class ConvolutionBlock(nn.Module):\n",
        "  def __init__(self, in_channels, out_channels):\n",
        "    self.in_channels = in_channels\n",
        "    self.out_channels = out_channels\n",
        "\n",
        "    super().__init__()\n",
        "\n",
        "    self.layers = nn.Sequential(\n",
        "        nn.Conv2d(in_channels, out_channels, (3, 3), padding = 1),\n",
        "        nn.ReLU(),\n",
        "        nn.BatchNorm2d(out_channels),\n",
        "        nn.Conv2d(out_channels, out_channels, (3, 3), stride = 2, padding = 1),\n",
        "        nn.ReLU(),\n",
        "        nn.BatchNorm2d(out_channels)\n",
        "        )\n",
        "  \n",
        "  def forward(self, x):\n",
        "    y = self.layers(x)\n",
        "    return y"
      ],
      "metadata": {
        "id": "LOPeaLclEv4u"
      },
      "execution_count": 3,
      "outputs": []
    },
    {
      "cell_type": "code",
      "source": [
        "class ConvolutionalNeuralNet(nn.Module):\n",
        "  def __init__(self, output_size):\n",
        "    self.output_size = output_size\n",
        "\n",
        "    super().__init__()\n",
        "\n",
        "    self.blocks = nn.Sequential(\n",
        "        ConvolutionBlock(3, 8),\n",
        "        ConvolutionBlock(8, 16),\n",
        "        ConvolutionBlock(16, 32),\n",
        "        ConvolutionBlock(32, 64),\n",
        "        ConvolutionBlock(64, 128),\n",
        "        ConvolutionBlock(128, 256),\n",
        "        ConvolutionBlock(256, 512),\n",
        "        ConvolutionBlock(512, 1024))\n",
        "    \n",
        "    self.layers = nn.Sequential(\n",
        "        nn.Linear(1024, 50),\n",
        "        nn.ReLU(),\n",
        "        nn.BatchNorm1d(50),\n",
        "        nn.Linear(50, output_size),\n",
        "        nn.Sigmoid())\n",
        "  \n",
        "  def forward(self, x):\n",
        "    assert x.dim() > 2\n",
        "    if x.dim() == 3:\n",
        "      x = x.view(-1, 1, x.size(-2), x.size(-1))\n",
        "    z = self.blocks(x)\n",
        "    y = self.layers(z.squeeze())\n",
        "    return y"
      ],
      "metadata": {
        "id": "KsHq_cVuFub6"
      },
      "execution_count": 4,
      "outputs": []
    },
    {
      "cell_type": "markdown",
      "source": [
        "## Hyper-parameter"
      ],
      "metadata": {
        "id": "bvxs3P79PgLc"
      }
    },
    {
      "cell_type": "code",
      "source": [
        "config = {\n",
        "    'train_ratio': 0.64,\n",
        "    'validation_ratio': 0.16,\n",
        "    'model': 'CNN',\n",
        "    'batch_size': 256,\n",
        "    'n_epochs': 10,\n",
        "    'verbose': 1\n",
        "}"
      ],
      "metadata": {
        "id": "mIA8en33PYtF"
      },
      "execution_count": 5,
      "outputs": []
    },
    {
      "cell_type": "markdown",
      "source": [
        "## Utils"
      ],
      "metadata": {
        "id": "O_wAGFxbPidG"
      }
    },
    {
      "cell_type": "code",
      "source": [
        "def get_loaders(config, input_size, is_train=True):\n",
        "  train_transform = transforms.Compose([\n",
        "        transforms.RandomResizedCrop(224),             \n",
        "        transforms.ToTensor(),                           \n",
        "    ])\n",
        "  dataset = ImageFolder(root = '/content/drive/MyDrive/딥러닝 중간프로젝트/data', transform = train_transform)\n",
        "  train_cnt = int(len(dataset)*config['train_ratio'])\n",
        "  valid_cnt = int(len(dataset)*config['validation_ratio'])\n",
        "  test_cnt = len(dataset) - train_cnt - valid_cnt\n",
        "  train_dataset, valid_dataset, test_dataset,  = random_split(dataset, [train_cnt, valid_cnt, test_cnt])\n",
        "  \n",
        "  if is_train:\n",
        "    train_transform = transforms.Compose([\n",
        "        transforms.RandomResizedCrop(224),             \n",
        "        transforms.ToTensor(),                           \n",
        "    ])\n",
        "  \n",
        "\n",
        "    print(\"# of train_dataset : \", len(train_dataset))\n",
        "    print(\"# of valid_dataset : \", len(valid_dataset))\n",
        "\n",
        "    print(dataset.class_to_idx)\n",
        "\n",
        "    train_loader = DataLoader(dataset=train_dataset, batch_size=config['batch_size'], shuffle=True)\n",
        "    valid_loader = DataLoader(dataset=valid_dataset, batch_size=config['batch_size'])\n",
        "\n",
        "    return train_loader, valid_loader\n",
        "    \n",
        "  else:\n",
        "    test_transform = transforms.Compose([\n",
        "        transforms.Resize((224,224)),                \n",
        "        transforms.ToTensor(),                           \n",
        "    ])\n",
        "\n",
        "    \n",
        "    print(\"# of test_dataset : \", len(test_dataset))\n",
        "\n",
        "    #print(test_dataset.class_to_idx)\n",
        "\n",
        "    test_loader = DataLoader(dataset=test_dataset, batch_size=config['batch_size'])\n",
        "\n",
        "    return test_loader"
      ],
      "metadata": {
        "id": "NXCBKU4OPjGM"
      },
      "execution_count": 6,
      "outputs": []
    },
    {
      "cell_type": "markdown",
      "source": [
        "## Trainer"
      ],
      "metadata": {
        "id": "dfOjdJgkPj8C"
      }
    },
    {
      "cell_type": "code",
      "source": [
        "class Trainer():\n",
        "\n",
        "  def __init__(self, model, optimizer, crit):\n",
        "      self.model = model\n",
        "      self.optimizer = optimizer\n",
        "      self.crit = crit\n",
        "\n",
        "      super().__init__()\n",
        "\n",
        "  def _train(self, train_loader, config):\n",
        "      self.model.train()\n",
        "\n",
        "      total_loss = 0\n",
        "\n",
        "      for i, (x_i, y_i) in enumerate(train_loader):\n",
        "          y_hat_i = self.model(x_i)\n",
        "          loss_i = self.crit(y_hat_i, y_i.squeeze())\n",
        "\n",
        "          # Initialize the gradients of the model.\n",
        "          self.optimizer.zero_grad()\n",
        "          loss_i.backward()\n",
        "\n",
        "          self.optimizer.step()\n",
        "          \n",
        "          if config['verbose'] >= 2:\n",
        "              print(\"Train Iteration(%d/%d): loss=%.4e\" % (i + 1, len(train_loader), float(loss_i)))\n",
        "\n",
        "          # Don't forget to detach to prevent memory leak.\n",
        "          total_loss += float(loss_i)\n",
        "\n",
        "      return total_loss / len(train_loader)\n",
        "\n",
        "  def _validate(self, valid_loader, config):\n",
        "      # Turn evaluation mode on.\n",
        "      self.model.eval()\n",
        "\n",
        "      # Turn on the no_grad mode to make more efficintly.\n",
        "      with torch.no_grad():\n",
        "          total_loss = 0\n",
        "\n",
        "          for i, (x_i, y_i) in enumerate(valid_loader):\n",
        "              y_hat_i = self.model(x_i)\n",
        "              loss_i = self.crit(y_hat_i, y_i.squeeze())\n",
        "              \n",
        "              if config['verbose'] >= 2:\n",
        "                  print(\"Valid Iteration(%d/%d): loss=%.4e\" % (i + 1, len(valid_loader), float(loss_i)))\n",
        "\n",
        "              total_loss += float(loss_i)\n",
        "\n",
        "          return total_loss / len(valid_loader)\n",
        "\n",
        "  def train(self, train_loader, valid_loader, config):\n",
        "      lowest_loss = np.inf\n",
        "      best_model = None\n",
        "\n",
        "      for epoch_index in range(config['n_epochs']):\n",
        "          train_loss = self._train(train_loader, config)\n",
        "          valid_loss = self._validate(valid_loader, config)\n",
        "\n",
        "          # You must use deep copy to take a snapshot of current best weights.\n",
        "          if valid_loss <= lowest_loss:\n",
        "              lowest_loss = valid_loss\n",
        "              best_model = deepcopy(self.model.state_dict())\n",
        "\n",
        "          print(\"Epoch(%d/%d): train_loss=%.4e  valid_loss=%.4e  lowest_loss=%.4e\" % (\n",
        "              epoch_index + 1,\n",
        "              config['n_epochs'],\n",
        "              train_loss,\n",
        "              valid_loss,\n",
        "              lowest_loss,\n",
        "          ))\n",
        "\n",
        "      # Restore to best model.\n",
        "      self.model.load_state_dict(best_model)"
      ],
      "metadata": {
        "id": "fnR9bM8JPlLw"
      },
      "execution_count": 7,
      "outputs": []
    },
    {
      "cell_type": "markdown",
      "source": [
        "## Train"
      ],
      "metadata": {
        "id": "Qge0UnzPP9Ul"
      }
    },
    {
      "cell_type": "code",
      "source": [
        "def main(config):\n",
        "  device = torch.device('cuda') if torch.cuda.is_available() else torch.device('cpu')\n",
        "  train_loader, valid_loader = get_loaders(config, input_size=224, is_train=True)\n",
        "\n",
        "  \n",
        "  model = ConvolutionalNeuralNet(2)\n",
        "  optimizer = optim.Adam(model.parameters(), lr=0.001)\n",
        "  crit = nn.CrossEntropyLoss()\n",
        "\n",
        "  if config['verbose'] >= 1:\n",
        "    print(model)\n",
        "    print(optimizer)\n",
        "    print(crit)\n",
        "\n",
        "  trainer = Trainer(model, optimizer, crit)\n",
        "  trainer.train(train_loader, valid_loader, config)\n",
        "\n",
        "  # Save best model weights\n",
        "  torch.save({\n",
        "      'model': trainer.model.state_dict(),\n",
        "      'opt': optimizer.state_dict(),\n",
        "      'config': config,\n",
        "  }, config['model'] + '.pth')"
      ],
      "metadata": {
        "id": "KJD89NrQP-J0"
      },
      "execution_count": 8,
      "outputs": []
    },
    {
      "cell_type": "code",
      "source": [
        "main(config)"
      ],
      "metadata": {
        "colab": {
          "base_uri": "https://localhost:8080/"
        },
        "id": "8lA5K_vgQAV_",
        "outputId": "d697dd3b-8a68-4821-b6bf-e1a7a0b2d68e"
      },
      "execution_count": 9,
      "outputs": [
        {
          "output_type": "stream",
          "name": "stdout",
          "text": [
            "# of train_dataset :  19301\n",
            "# of valid_dataset :  4825\n",
            "{'korean': 0, 'nonkorean': 1}\n",
            "ConvolutionalNeuralNet(\n",
            "  (blocks): Sequential(\n",
            "    (0): ConvolutionBlock(\n",
            "      (layers): Sequential(\n",
            "        (0): Conv2d(3, 8, kernel_size=(3, 3), stride=(1, 1), padding=(1, 1))\n",
            "        (1): ReLU()\n",
            "        (2): BatchNorm2d(8, eps=1e-05, momentum=0.1, affine=True, track_running_stats=True)\n",
            "        (3): Conv2d(8, 8, kernel_size=(3, 3), stride=(2, 2), padding=(1, 1))\n",
            "        (4): ReLU()\n",
            "        (5): BatchNorm2d(8, eps=1e-05, momentum=0.1, affine=True, track_running_stats=True)\n",
            "      )\n",
            "    )\n",
            "    (1): ConvolutionBlock(\n",
            "      (layers): Sequential(\n",
            "        (0): Conv2d(8, 16, kernel_size=(3, 3), stride=(1, 1), padding=(1, 1))\n",
            "        (1): ReLU()\n",
            "        (2): BatchNorm2d(16, eps=1e-05, momentum=0.1, affine=True, track_running_stats=True)\n",
            "        (3): Conv2d(16, 16, kernel_size=(3, 3), stride=(2, 2), padding=(1, 1))\n",
            "        (4): ReLU()\n",
            "        (5): BatchNorm2d(16, eps=1e-05, momentum=0.1, affine=True, track_running_stats=True)\n",
            "      )\n",
            "    )\n",
            "    (2): ConvolutionBlock(\n",
            "      (layers): Sequential(\n",
            "        (0): Conv2d(16, 32, kernel_size=(3, 3), stride=(1, 1), padding=(1, 1))\n",
            "        (1): ReLU()\n",
            "        (2): BatchNorm2d(32, eps=1e-05, momentum=0.1, affine=True, track_running_stats=True)\n",
            "        (3): Conv2d(32, 32, kernel_size=(3, 3), stride=(2, 2), padding=(1, 1))\n",
            "        (4): ReLU()\n",
            "        (5): BatchNorm2d(32, eps=1e-05, momentum=0.1, affine=True, track_running_stats=True)\n",
            "      )\n",
            "    )\n",
            "    (3): ConvolutionBlock(\n",
            "      (layers): Sequential(\n",
            "        (0): Conv2d(32, 64, kernel_size=(3, 3), stride=(1, 1), padding=(1, 1))\n",
            "        (1): ReLU()\n",
            "        (2): BatchNorm2d(64, eps=1e-05, momentum=0.1, affine=True, track_running_stats=True)\n",
            "        (3): Conv2d(64, 64, kernel_size=(3, 3), stride=(2, 2), padding=(1, 1))\n",
            "        (4): ReLU()\n",
            "        (5): BatchNorm2d(64, eps=1e-05, momentum=0.1, affine=True, track_running_stats=True)\n",
            "      )\n",
            "    )\n",
            "    (4): ConvolutionBlock(\n",
            "      (layers): Sequential(\n",
            "        (0): Conv2d(64, 128, kernel_size=(3, 3), stride=(1, 1), padding=(1, 1))\n",
            "        (1): ReLU()\n",
            "        (2): BatchNorm2d(128, eps=1e-05, momentum=0.1, affine=True, track_running_stats=True)\n",
            "        (3): Conv2d(128, 128, kernel_size=(3, 3), stride=(2, 2), padding=(1, 1))\n",
            "        (4): ReLU()\n",
            "        (5): BatchNorm2d(128, eps=1e-05, momentum=0.1, affine=True, track_running_stats=True)\n",
            "      )\n",
            "    )\n",
            "    (5): ConvolutionBlock(\n",
            "      (layers): Sequential(\n",
            "        (0): Conv2d(128, 256, kernel_size=(3, 3), stride=(1, 1), padding=(1, 1))\n",
            "        (1): ReLU()\n",
            "        (2): BatchNorm2d(256, eps=1e-05, momentum=0.1, affine=True, track_running_stats=True)\n",
            "        (3): Conv2d(256, 256, kernel_size=(3, 3), stride=(2, 2), padding=(1, 1))\n",
            "        (4): ReLU()\n",
            "        (5): BatchNorm2d(256, eps=1e-05, momentum=0.1, affine=True, track_running_stats=True)\n",
            "      )\n",
            "    )\n",
            "    (6): ConvolutionBlock(\n",
            "      (layers): Sequential(\n",
            "        (0): Conv2d(256, 512, kernel_size=(3, 3), stride=(1, 1), padding=(1, 1))\n",
            "        (1): ReLU()\n",
            "        (2): BatchNorm2d(512, eps=1e-05, momentum=0.1, affine=True, track_running_stats=True)\n",
            "        (3): Conv2d(512, 512, kernel_size=(3, 3), stride=(2, 2), padding=(1, 1))\n",
            "        (4): ReLU()\n",
            "        (5): BatchNorm2d(512, eps=1e-05, momentum=0.1, affine=True, track_running_stats=True)\n",
            "      )\n",
            "    )\n",
            "    (7): ConvolutionBlock(\n",
            "      (layers): Sequential(\n",
            "        (0): Conv2d(512, 1024, kernel_size=(3, 3), stride=(1, 1), padding=(1, 1))\n",
            "        (1): ReLU()\n",
            "        (2): BatchNorm2d(1024, eps=1e-05, momentum=0.1, affine=True, track_running_stats=True)\n",
            "        (3): Conv2d(1024, 1024, kernel_size=(3, 3), stride=(2, 2), padding=(1, 1))\n",
            "        (4): ReLU()\n",
            "        (5): BatchNorm2d(1024, eps=1e-05, momentum=0.1, affine=True, track_running_stats=True)\n",
            "      )\n",
            "    )\n",
            "  )\n",
            "  (layers): Sequential(\n",
            "    (0): Linear(in_features=1024, out_features=50, bias=True)\n",
            "    (1): ReLU()\n",
            "    (2): BatchNorm1d(50, eps=1e-05, momentum=0.1, affine=True, track_running_stats=True)\n",
            "    (3): Linear(in_features=50, out_features=2, bias=True)\n",
            "    (4): Sigmoid()\n",
            "  )\n",
            ")\n",
            "Adam (\n",
            "Parameter Group 0\n",
            "    amsgrad: False\n",
            "    betas: (0.9, 0.999)\n",
            "    capturable: False\n",
            "    differentiable: False\n",
            "    eps: 1e-08\n",
            "    foreach: None\n",
            "    fused: None\n",
            "    lr: 0.001\n",
            "    maximize: False\n",
            "    weight_decay: 0\n",
            ")\n",
            "CrossEntropyLoss()\n",
            "Epoch(1/10): train_loss=3.7924e-01  valid_loss=3.5570e-01  lowest_loss=3.5570e-01\n",
            "Epoch(2/10): train_loss=3.4700e-01  valid_loss=3.4233e-01  lowest_loss=3.4233e-01\n",
            "Epoch(3/10): train_loss=3.4281e-01  valid_loss=4.2380e-01  lowest_loss=3.4233e-01\n",
            "Epoch(4/10): train_loss=3.4715e-01  valid_loss=3.4495e-01  lowest_loss=3.4233e-01\n",
            "Epoch(5/10): train_loss=3.4107e-01  valid_loss=3.4003e-01  lowest_loss=3.4003e-01\n",
            "Epoch(6/10): train_loss=3.3826e-01  valid_loss=3.3804e-01  lowest_loss=3.3804e-01\n",
            "Epoch(7/10): train_loss=3.4047e-01  valid_loss=5.7999e-01  lowest_loss=3.3804e-01\n",
            "Epoch(8/10): train_loss=3.3917e-01  valid_loss=3.6179e-01  lowest_loss=3.3804e-01\n",
            "Epoch(9/10): train_loss=3.3866e-01  valid_loss=3.4265e-01  lowest_loss=3.3804e-01\n",
            "Epoch(10/10): train_loss=3.3909e-01  valid_loss=3.5660e-01  lowest_loss=3.3804e-01\n"
          ]
        }
      ]
    },
    {
      "cell_type": "markdown",
      "source": [
        "## Test"
      ],
      "metadata": {
        "id": "Uu1w8k93QCTO"
      }
    },
    {
      "cell_type": "code",
      "source": [
        "model_fn = \"./CNN.pth\"\n",
        "device = torch.device('cuda') if torch.cuda.is_available() else torch.device('cpu')"
      ],
      "metadata": {
        "id": "hr9L0VRXQC-L"
      },
      "execution_count": 10,
      "outputs": []
    },
    {
      "cell_type": "code",
      "source": [
        "def load(fn, device):\n",
        "  d = torch.load(fn, map_location=device)\n",
        "  \n",
        "  return d['model'], d['config']"
      ],
      "metadata": {
        "id": "4Ez7qtl2QE7c"
      },
      "execution_count": 11,
      "outputs": []
    },
    {
      "cell_type": "code",
      "source": [
        "def confusion_matrix(y_test, y_pred):\n",
        "  cnf_matrix = metrics.confusion_matrix(y_test, y_pred)\n",
        "\n",
        "  class_names=[0,1] # name  of classes\n",
        "  fig, ax = plt.subplots()\n",
        "  tick_marks = np.arange(len(class_names))\n",
        "  plt.xticks(tick_marks, class_names)\n",
        "  plt.yticks(tick_marks, class_names)\n",
        "  # create heatmap\n",
        "  sns.heatmap(pd.DataFrame(cnf_matrix), annot=True, cmap=\"YlGnBu\" ,fmt='g')\n",
        "  ax.xaxis.set_label_position(\"top\")\n",
        "  plt.tight_layout()\n",
        "  plt.title('Confusion matrix', y=1.1)\n",
        "  plt.ylabel('Actual label')\n",
        "  plt.xlabel('Predicted label')\n",
        "\n",
        "  print(\"Accuracy:\",metrics.accuracy_score(y_test, y_pred))\n",
        "  print(\"Precision:\",metrics.precision_score(y_test, y_pred))\n",
        "  print(\"Recall:\",metrics.recall_score(y_test, y_pred))\n",
        "  print(\"F1score:\",metrics.f1_score(y_test, y_pred))"
      ],
      "metadata": {
        "id": "236Z8FvXQGKT"
      },
      "execution_count": 12,
      "outputs": []
    },
    {
      "cell_type": "code",
      "source": [
        "def test(model, test_loader):\n",
        "  model.eval()\n",
        "  \n",
        "  total_cnt, correct_cnt = 0, 0\n",
        "  y_test_li, y_pred_li = np.array([]), np.array([])\n",
        "  with torch.no_grad():\n",
        "    for x, y in test_loader:\n",
        "      x, y = x.to(device), y.to(device)\n",
        "      y_hat = model(x)\n",
        "      correct_cnt += (y.squeeze() == torch.argmax(y_hat, dim=-1)).sum()\n",
        "      total_cnt += len(x)\n",
        "      \n",
        "      y_test_li = np.append(y_test_li, np.array(y.detach().cpu(), dtype='int'))\n",
        "      y_pred_li = np.append(y_pred_li, np.array(torch.argmax(y_hat, dim=-1).detach().cpu(), dtype='int'))\n",
        "\n",
        "    accuracy = correct_cnt / total_cnt\n",
        "    print(\"Accuracy: %.4f\" % accuracy)\n",
        "\n",
        "    confusion_matrix(y_test_li, y_pred_li)"
      ],
      "metadata": {
        "id": "eg_MX1E-QIIO"
      },
      "execution_count": 13,
      "outputs": []
    },
    {
      "cell_type": "code",
      "source": [
        "model_dict, train_config = load(model_fn, device)\n",
        "\n",
        "test_loader = get_loaders(config, input_size=224, is_train=False)\n",
        "model = ConvolutionalNeuralNet(2).to(device)\n",
        "model.load_state_dict(model_dict)\n",
        "\n",
        "test(model, test_loader)"
      ],
      "metadata": {
        "id": "AdnphCyeQLoQ",
        "colab": {
          "base_uri": "https://localhost:8080/",
          "height": 660
        },
        "outputId": "0eaf8c92-eba5-4e81-e94d-02430e1c28c5"
      },
      "execution_count": 14,
      "outputs": [
        {
          "output_type": "stream",
          "name": "stdout",
          "text": [
            "# of test_dataset :  6032\n",
            "Accuracy: 0.9736\n",
            "Accuracy: 0.9736405835543767\n",
            "Precision: 0.9986653319986654\n",
            "Recall: 0.9507623888182973\n",
            "F1score: 0.974125305126119\n"
          ]
        },
        {
          "output_type": "display_data",
          "data": {
            "text/plain": [
              "<Figure size 640x480 with 2 Axes>"
            ],
            "image/png": "[encoded data removed]"
          },
          "metadata": {}
        }
      ]
    },
    {
      "cell_type": "code",
      "source": [],
      "metadata": {
        "id": "RPrmctfVOFNK"
      },
      "execution_count": null,
      "outputs": []
    }
  ]
}